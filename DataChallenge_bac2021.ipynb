{
 "cells": [
  {
   "cell_type": "markdown",
   "id": "73fadfed",
   "metadata": {},
   "source": [
    "## Data Preparation"
   ]
  },
  {
   "cell_type": "code",
   "execution_count": 1,
   "id": "6fa21782",
   "metadata": {},
   "outputs": [],
   "source": [
    "import pandas as pd\n",
    "import numpy as np"
   ]
  },
  {
   "cell_type": "code",
   "execution_count": 2,
   "id": "cd97eae8",
   "metadata": {},
   "outputs": [
    {
     "data": {
      "text/html": [
       "<div>\n",
       "<style scoped>\n",
       "    .dataframe tbody tr th:only-of-type {\n",
       "        vertical-align: middle;\n",
       "    }\n",
       "\n",
       "    .dataframe tbody tr th {\n",
       "        vertical-align: top;\n",
       "    }\n",
       "\n",
       "    .dataframe thead th {\n",
       "        text-align: right;\n",
       "    }\n",
       "</style>\n",
       "<table border=\"1\" class=\"dataframe\">\n",
       "  <thead>\n",
       "    <tr style=\"text-align: right;\">\n",
       "      <th></th>\n",
       "      <th>Unnamed: 0</th>\n",
       "      <th>Nom</th>\n",
       "      <th>Serie,x</th>\n",
       "      <th>GroupeAnonymat</th>\n",
       "      <th>LieuNaissance</th>\n",
       "      <th>Centre</th>\n",
       "      <th>Etablissement</th>\n",
       "      <th>moyeneGeneral</th>\n",
       "      <th>Decision</th>\n",
       "      <th>Note1</th>\n",
       "      <th>...</th>\n",
       "      <th>Note3</th>\n",
       "      <th>Note4</th>\n",
       "      <th>Note5</th>\n",
       "      <th>Note6</th>\n",
       "      <th>Note7</th>\n",
       "      <th>Note8</th>\n",
       "      <th>Willaya</th>\n",
       "      <th>moughataa</th>\n",
       "      <th>DateNaissance</th>\n",
       "      <th>ID</th>\n",
       "    </tr>\n",
       "  </thead>\n",
       "  <tbody>\n",
       "    <tr>\n",
       "      <th>0</th>\n",
       "      <td>27634</td>\n",
       "      <td>El Ide Brahim M'Hadi</td>\n",
       "      <td>SN</td>\n",
       "      <td>SN09</td>\n",
       "      <td>Bathet meit</td>\n",
       "      <td>Lycée Jedida</td>\n",
       "      <td>Lycée Jedida</td>\n",
       "      <td>4.601562</td>\n",
       "      <td>Ajourné</td>\n",
       "      <td>1.625</td>\n",
       "      <td>...</td>\n",
       "      <td>5.00</td>\n",
       "      <td>5.500</td>\n",
       "      <td>3.00</td>\n",
       "      <td>7.75</td>\n",
       "      <td>7.50</td>\n",
       "      <td>18.5</td>\n",
       "      <td>Nouakchott 2 (Ouest)</td>\n",
       "      <td>KSAR</td>\n",
       "      <td>12 ديسمبر 1998</td>\n",
       "      <td>ID_27634</td>\n",
       "    </tr>\n",
       "    <tr>\n",
       "      <th>1</th>\n",
       "      <td>36311</td>\n",
       "      <td>Mariem Yedaly Afane</td>\n",
       "      <td>LO</td>\n",
       "      <td>LO1</td>\n",
       "      <td>Beir Taouress</td>\n",
       "      <td>Lycée Arafat 2 (A)</td>\n",
       "      <td>Lycée Arafat 2</td>\n",
       "      <td>7.625000</td>\n",
       "      <td>Ajourné</td>\n",
       "      <td>13.000</td>\n",
       "      <td>...</td>\n",
       "      <td>10.75</td>\n",
       "      <td>2.000</td>\n",
       "      <td>8.75</td>\n",
       "      <td>2.00</td>\n",
       "      <td>0.75</td>\n",
       "      <td>-1.0</td>\n",
       "      <td>Nouakchott 3 (Sud)</td>\n",
       "      <td>ARAFAT</td>\n",
       "      <td>26 ديسمبر 1991</td>\n",
       "      <td>ID_36311</td>\n",
       "    </tr>\n",
       "    <tr>\n",
       "      <th>2</th>\n",
       "      <td>21059</td>\n",
       "      <td>Aiche Jiyid Jiyid</td>\n",
       "      <td>LM</td>\n",
       "      <td>LM3</td>\n",
       "      <td>Akjoujt</td>\n",
       "      <td>Lycée Akjoujt</td>\n",
       "      <td>Lycée Akjoujt</td>\n",
       "      <td>6.894531</td>\n",
       "      <td>Ajourné</td>\n",
       "      <td>7.000</td>\n",
       "      <td>...</td>\n",
       "      <td>6.50</td>\n",
       "      <td>7.625</td>\n",
       "      <td>1.00</td>\n",
       "      <td>5.50</td>\n",
       "      <td>10.00</td>\n",
       "      <td>17.0</td>\n",
       "      <td>Inchiri</td>\n",
       "      <td>AKJOUJT</td>\n",
       "      <td>8 مايو 1995</td>\n",
       "      <td>ID_21059</td>\n",
       "    </tr>\n",
       "    <tr>\n",
       "      <th>3</th>\n",
       "      <td>24532</td>\n",
       "      <td>Ahmed Abd El Ghader Meissa</td>\n",
       "      <td>SN</td>\n",
       "      <td>SN06</td>\n",
       "      <td>Chelkhet Tiyab</td>\n",
       "      <td>Lycée Toujounine 1</td>\n",
       "      <td>Lycée Toujounine 1</td>\n",
       "      <td>4.859375</td>\n",
       "      <td>Ajourné</td>\n",
       "      <td>1.750</td>\n",
       "      <td>...</td>\n",
       "      <td>5.50</td>\n",
       "      <td>5.500</td>\n",
       "      <td>5.00</td>\n",
       "      <td>1.50</td>\n",
       "      <td>7.50</td>\n",
       "      <td>17.0</td>\n",
       "      <td>Nouakchott 1 (Nord)</td>\n",
       "      <td>TOUJOUNINE</td>\n",
       "      <td>24 avr. 1999</td>\n",
       "      <td>ID_24532</td>\n",
       "    </tr>\n",
       "    <tr>\n",
       "      <th>4</th>\n",
       "      <td>17861</td>\n",
       "      <td>Mariam Abdoulaye Ba</td>\n",
       "      <td>SN</td>\n",
       "      <td>SN03</td>\n",
       "      <td>Aere M'Bar</td>\n",
       "      <td>Lycée Nouadhibou 2</td>\n",
       "      <td>Lycée Wava Nouadhibou</td>\n",
       "      <td>3.548387</td>\n",
       "      <td>Ajourné</td>\n",
       "      <td>4.500</td>\n",
       "      <td>...</td>\n",
       "      <td>3.50</td>\n",
       "      <td>4.000</td>\n",
       "      <td>4.00</td>\n",
       "      <td>2.00</td>\n",
       "      <td>2.00</td>\n",
       "      <td>-1.0</td>\n",
       "      <td>Dakhlet NDB</td>\n",
       "      <td>NOUADHIBOU</td>\n",
       "      <td>10 mai 2001</td>\n",
       "      <td>ID_17861</td>\n",
       "    </tr>\n",
       "  </tbody>\n",
       "</table>\n",
       "<p>5 rows × 21 columns</p>\n",
       "</div>"
      ],
      "text/plain": [
       "   Unnamed: 0                         Nom Serie,x GroupeAnonymat  \\\n",
       "0       27634        El Ide Brahim M'Hadi      SN           SN09   \n",
       "1       36311         Mariem Yedaly Afane      LO            LO1   \n",
       "2       21059           Aiche Jiyid Jiyid      LM            LM3   \n",
       "3       24532  Ahmed Abd El Ghader Meissa      SN           SN06   \n",
       "4       17861         Mariam Abdoulaye Ba      SN           SN03   \n",
       "\n",
       "    LieuNaissance              Centre          Etablissement  moyeneGeneral  \\\n",
       "0     Bathet meit        Lycée Jedida           Lycée Jedida       4.601562   \n",
       "1   Beir Taouress  Lycée Arafat 2 (A)         Lycée Arafat 2       7.625000   \n",
       "2         Akjoujt       Lycée Akjoujt          Lycée Akjoujt       6.894531   \n",
       "3  Chelkhet Tiyab  Lycée Toujounine 1     Lycée Toujounine 1       4.859375   \n",
       "4      Aere M'Bar  Lycée Nouadhibou 2  Lycée Wava Nouadhibou       3.548387   \n",
       "\n",
       "  Decision   Note1  ...  Note3  Note4  Note5  Note6  Note7  Note8  \\\n",
       "0  Ajourné   1.625  ...   5.00  5.500   3.00   7.75   7.50   18.5   \n",
       "1  Ajourné  13.000  ...  10.75  2.000   8.75   2.00   0.75   -1.0   \n",
       "2  Ajourné   7.000  ...   6.50  7.625   1.00   5.50  10.00   17.0   \n",
       "3  Ajourné   1.750  ...   5.50  5.500   5.00   1.50   7.50   17.0   \n",
       "4  Ajourné   4.500  ...   3.50  4.000   4.00   2.00   2.00   -1.0   \n",
       "\n",
       "                Willaya   moughataa   DateNaissance        ID  \n",
       "0  Nouakchott 2 (Ouest)        KSAR  12 ديسمبر 1998  ID_27634  \n",
       "1    Nouakchott 3 (Sud)      ARAFAT  26 ديسمبر 1991  ID_36311  \n",
       "2               Inchiri     AKJOUJT     8 مايو 1995  ID_21059  \n",
       "3   Nouakchott 1 (Nord)  TOUJOUNINE    24 avr. 1999  ID_24532  \n",
       "4           Dakhlet NDB  NOUADHIBOU     10 mai 2001  ID_17861  \n",
       "\n",
       "[5 rows x 21 columns]"
      ]
     },
     "execution_count": 2,
     "metadata": {},
     "output_type": "execute_result"
    }
   ],
   "source": [
    "bac = pd.read_csv('train_set.csv')\n",
    "bac.head()"
   ]
  },
  {
   "cell_type": "code",
   "execution_count": 3,
   "id": "b06321c3",
   "metadata": {},
   "outputs": [
    {
     "data": {
      "text/plain": [
       "(23894, 21)"
      ]
     },
     "execution_count": 3,
     "metadata": {},
     "output_type": "execute_result"
    }
   ],
   "source": [
    "bac.shape"
   ]
  },
  {
   "cell_type": "code",
   "execution_count": 4,
   "id": "015024fe",
   "metadata": {},
   "outputs": [
    {
     "data": {
      "text/plain": [
       "Index(['Unnamed: 0', 'Nom', 'Serie,x', 'GroupeAnonymat', 'LieuNaissance',\n",
       "       'Centre', 'Etablissement', 'moyeneGeneral', 'Decision', 'Note1',\n",
       "       'Note2', 'Note3', 'Note4', 'Note5', 'Note6', 'Note7', 'Note8',\n",
       "       'Willaya', 'moughataa', 'DateNaissance', 'ID'],\n",
       "      dtype='object')"
      ]
     },
     "execution_count": 4,
     "metadata": {},
     "output_type": "execute_result"
    }
   ],
   "source": [
    "bac.columns"
   ]
  },
  {
   "cell_type": "code",
   "execution_count": 5,
   "id": "51f6f798",
   "metadata": {},
   "outputs": [
    {
     "data": {
      "text/plain": [
       "Ajourné                                  18966\n",
       "Admis                                     1973\n",
       "Sessionnaire                              1530\n",
       "Abscent                                   1068\n",
       "Examen annulé à cause du Téléphone         351\n",
       "Examen annulé à cause du comportement        6\n",
       "Name: Decision, dtype: int64"
      ]
     },
     "execution_count": 5,
     "metadata": {},
     "output_type": "execute_result"
    }
   ],
   "source": [
    "bac['Decision'].value_counts()"
   ]
  },
  {
   "cell_type": "code",
   "execution_count": 6,
   "id": "fd04698d",
   "metadata": {},
   "outputs": [],
   "source": [
    "bac= bac.drop(columns=['Unnamed: 0'])"
   ]
  },
  {
   "cell_type": "code",
   "execution_count": 8,
   "id": "9a5f292c",
   "metadata": {},
   "outputs": [],
   "source": [
    "### Creating A new column 'Age'\n",
    "import datetime\n",
    "import dateparser\n",
    "\n",
    "def calculate_age(birth_date):\n",
    "    # convertir la date en format date\n",
    "    birth_date = dateparser.parse(birth_date, languages=['ar', 'fr'])\n",
    "    # calculer la différence entre la date de naissance et aujourd'hui\n",
    "    age = datetime.date.today().year - birth_date.year - ((datetime.date.today().month, datetime.date.today().day) < (birth_date.month, birth_date.day))\n",
    "    # retourner l'âge\n",
    "    return age\n",
    "bac['Age'] = bac['DateNaissance'].apply(calculate_age)"
   ]
  },
  {
   "cell_type": "code",
   "execution_count": 9,
   "id": "d63a4ecf",
   "metadata": {},
   "outputs": [
    {
     "data": {
      "text/html": [
       "<div>\n",
       "<style scoped>\n",
       "    .dataframe tbody tr th:only-of-type {\n",
       "        vertical-align: middle;\n",
       "    }\n",
       "\n",
       "    .dataframe tbody tr th {\n",
       "        vertical-align: top;\n",
       "    }\n",
       "\n",
       "    .dataframe thead th {\n",
       "        text-align: right;\n",
       "    }\n",
       "</style>\n",
       "<table border=\"1\" class=\"dataframe\">\n",
       "  <thead>\n",
       "    <tr style=\"text-align: right;\">\n",
       "      <th></th>\n",
       "      <th>Nom</th>\n",
       "      <th>Serie,x</th>\n",
       "      <th>GroupeAnonymat</th>\n",
       "      <th>LieuNaissance</th>\n",
       "      <th>Centre</th>\n",
       "      <th>Etablissement</th>\n",
       "      <th>moyeneGeneral</th>\n",
       "      <th>Decision</th>\n",
       "      <th>Note1</th>\n",
       "      <th>Note2</th>\n",
       "      <th>...</th>\n",
       "      <th>Note4</th>\n",
       "      <th>Note5</th>\n",
       "      <th>Note6</th>\n",
       "      <th>Note7</th>\n",
       "      <th>Note8</th>\n",
       "      <th>Willaya</th>\n",
       "      <th>moughataa</th>\n",
       "      <th>DateNaissance</th>\n",
       "      <th>ID</th>\n",
       "      <th>Age</th>\n",
       "    </tr>\n",
       "  </thead>\n",
       "  <tbody>\n",
       "    <tr>\n",
       "      <th>0</th>\n",
       "      <td>El Ide Brahim M'Hadi</td>\n",
       "      <td>SN</td>\n",
       "      <td>SN09</td>\n",
       "      <td>Bathet meit</td>\n",
       "      <td>Lycée Jedida</td>\n",
       "      <td>Lycée Jedida</td>\n",
       "      <td>4.601562</td>\n",
       "      <td>Ajourné</td>\n",
       "      <td>1.625</td>\n",
       "      <td>4.250</td>\n",
       "      <td>...</td>\n",
       "      <td>5.500</td>\n",
       "      <td>3.00</td>\n",
       "      <td>7.75</td>\n",
       "      <td>7.50</td>\n",
       "      <td>18.5</td>\n",
       "      <td>Nouakchott 2 (Ouest)</td>\n",
       "      <td>KSAR</td>\n",
       "      <td>12 ديسمبر 1998</td>\n",
       "      <td>ID_27634</td>\n",
       "      <td>24</td>\n",
       "    </tr>\n",
       "    <tr>\n",
       "      <th>1</th>\n",
       "      <td>Mariem Yedaly Afane</td>\n",
       "      <td>LO</td>\n",
       "      <td>LO1</td>\n",
       "      <td>Beir Taouress</td>\n",
       "      <td>Lycée Arafat 2 (A)</td>\n",
       "      <td>Lycée Arafat 2</td>\n",
       "      <td>7.625000</td>\n",
       "      <td>Ajourné</td>\n",
       "      <td>13.000</td>\n",
       "      <td>5.875</td>\n",
       "      <td>...</td>\n",
       "      <td>2.000</td>\n",
       "      <td>8.75</td>\n",
       "      <td>2.00</td>\n",
       "      <td>0.75</td>\n",
       "      <td>-1.0</td>\n",
       "      <td>Nouakchott 3 (Sud)</td>\n",
       "      <td>ARAFAT</td>\n",
       "      <td>26 ديسمبر 1991</td>\n",
       "      <td>ID_36311</td>\n",
       "      <td>31</td>\n",
       "    </tr>\n",
       "    <tr>\n",
       "      <th>2</th>\n",
       "      <td>Aiche Jiyid Jiyid</td>\n",
       "      <td>LM</td>\n",
       "      <td>LM3</td>\n",
       "      <td>Akjoujt</td>\n",
       "      <td>Lycée Akjoujt</td>\n",
       "      <td>Lycée Akjoujt</td>\n",
       "      <td>6.894531</td>\n",
       "      <td>Ajourné</td>\n",
       "      <td>7.000</td>\n",
       "      <td>8.250</td>\n",
       "      <td>...</td>\n",
       "      <td>7.625</td>\n",
       "      <td>1.00</td>\n",
       "      <td>5.50</td>\n",
       "      <td>10.00</td>\n",
       "      <td>17.0</td>\n",
       "      <td>Inchiri</td>\n",
       "      <td>AKJOUJT</td>\n",
       "      <td>8 مايو 1995</td>\n",
       "      <td>ID_21059</td>\n",
       "      <td>27</td>\n",
       "    </tr>\n",
       "    <tr>\n",
       "      <th>3</th>\n",
       "      <td>Ahmed Abd El Ghader Meissa</td>\n",
       "      <td>SN</td>\n",
       "      <td>SN06</td>\n",
       "      <td>Chelkhet Tiyab</td>\n",
       "      <td>Lycée Toujounine 1</td>\n",
       "      <td>Lycée Toujounine 1</td>\n",
       "      <td>4.859375</td>\n",
       "      <td>Ajourné</td>\n",
       "      <td>1.750</td>\n",
       "      <td>6.000</td>\n",
       "      <td>...</td>\n",
       "      <td>5.500</td>\n",
       "      <td>5.00</td>\n",
       "      <td>1.50</td>\n",
       "      <td>7.50</td>\n",
       "      <td>17.0</td>\n",
       "      <td>Nouakchott 1 (Nord)</td>\n",
       "      <td>TOUJOUNINE</td>\n",
       "      <td>24 avr. 1999</td>\n",
       "      <td>ID_24532</td>\n",
       "      <td>23</td>\n",
       "    </tr>\n",
       "    <tr>\n",
       "      <th>4</th>\n",
       "      <td>Mariam Abdoulaye Ba</td>\n",
       "      <td>SN</td>\n",
       "      <td>SN03</td>\n",
       "      <td>Aere M'Bar</td>\n",
       "      <td>Lycée Nouadhibou 2</td>\n",
       "      <td>Lycée Wava Nouadhibou</td>\n",
       "      <td>3.548387</td>\n",
       "      <td>Ajourné</td>\n",
       "      <td>4.500</td>\n",
       "      <td>3.000</td>\n",
       "      <td>...</td>\n",
       "      <td>4.000</td>\n",
       "      <td>4.00</td>\n",
       "      <td>2.00</td>\n",
       "      <td>2.00</td>\n",
       "      <td>-1.0</td>\n",
       "      <td>Dakhlet NDB</td>\n",
       "      <td>NOUADHIBOU</td>\n",
       "      <td>10 mai 2001</td>\n",
       "      <td>ID_17861</td>\n",
       "      <td>21</td>\n",
       "    </tr>\n",
       "  </tbody>\n",
       "</table>\n",
       "<p>5 rows × 21 columns</p>\n",
       "</div>"
      ],
      "text/plain": [
       "                          Nom Serie,x GroupeAnonymat   LieuNaissance  \\\n",
       "0        El Ide Brahim M'Hadi      SN           SN09     Bathet meit   \n",
       "1         Mariem Yedaly Afane      LO            LO1   Beir Taouress   \n",
       "2           Aiche Jiyid Jiyid      LM            LM3         Akjoujt   \n",
       "3  Ahmed Abd El Ghader Meissa      SN           SN06  Chelkhet Tiyab   \n",
       "4         Mariam Abdoulaye Ba      SN           SN03      Aere M'Bar   \n",
       "\n",
       "               Centre          Etablissement  moyeneGeneral Decision   Note1  \\\n",
       "0        Lycée Jedida           Lycée Jedida       4.601562  Ajourné   1.625   \n",
       "1  Lycée Arafat 2 (A)         Lycée Arafat 2       7.625000  Ajourné  13.000   \n",
       "2       Lycée Akjoujt          Lycée Akjoujt       6.894531  Ajourné   7.000   \n",
       "3  Lycée Toujounine 1     Lycée Toujounine 1       4.859375  Ajourné   1.750   \n",
       "4  Lycée Nouadhibou 2  Lycée Wava Nouadhibou       3.548387  Ajourné   4.500   \n",
       "\n",
       "   Note2  ...  Note4  Note5  Note6  Note7  Note8               Willaya  \\\n",
       "0  4.250  ...  5.500   3.00   7.75   7.50   18.5  Nouakchott 2 (Ouest)   \n",
       "1  5.875  ...  2.000   8.75   2.00   0.75   -1.0    Nouakchott 3 (Sud)   \n",
       "2  8.250  ...  7.625   1.00   5.50  10.00   17.0               Inchiri   \n",
       "3  6.000  ...  5.500   5.00   1.50   7.50   17.0   Nouakchott 1 (Nord)   \n",
       "4  3.000  ...  4.000   4.00   2.00   2.00   -1.0           Dakhlet NDB   \n",
       "\n",
       "    moughataa   DateNaissance        ID Age  \n",
       "0        KSAR  12 ديسمبر 1998  ID_27634  24  \n",
       "1      ARAFAT  26 ديسمبر 1991  ID_36311  31  \n",
       "2     AKJOUJT     8 مايو 1995  ID_21059  27  \n",
       "3  TOUJOUNINE    24 avr. 1999  ID_24532  23  \n",
       "4  NOUADHIBOU     10 mai 2001  ID_17861  21  \n",
       "\n",
       "[5 rows x 21 columns]"
      ]
     },
     "execution_count": 9,
     "metadata": {},
     "output_type": "execute_result"
    }
   ],
   "source": [
    "bac.head()"
   ]
  },
  {
   "cell_type": "markdown",
   "id": "e8cea6cf",
   "metadata": {},
   "source": [
    "## Data preprocessing"
   ]
  },
  {
   "cell_type": "code",
   "execution_count": 10,
   "id": "16126885",
   "metadata": {},
   "outputs": [],
   "source": [
    "import xgboost as xgb\n",
    "#from sklearn.ensemble import AdaBoostClassifier,RandomForestClassifier\n",
    "from sklearn.pipeline import Pipeline\n",
    "from sklearn.preprocessing import OneHotEncoder, StandardScaler,LabelEncoder,LabelBinarizer\n",
    "from sklearn.compose import ColumnTransformer\n",
    "from sklearn.metrics import accuracy_score, confusion_matrix, precision_score, recall_score, ConfusionMatrixDisplay,f1_score\n",
    "\n",
    "# Import train_test_split function\n",
    "from sklearn.model_selection import train_test_split,RandomizedSearchCV\n",
    "#Import scikit-learn metrics module for accuracy calculation\n",
    "from sklearn import metrics"
   ]
  },
  {
   "cell_type": "code",
   "execution_count": 11,
   "id": "0a52fde5",
   "metadata": {},
   "outputs": [],
   "source": [
    "# Split the data into features (X) and target (y)\n",
    "X = bac.drop(['Decision','moyeneGeneral', 'Note1','DateNaissance',\n",
    "       'Note2', 'Note3', 'Note4', 'Note5', 'Note6', 'Note7', 'Note8'], axis=1)\n",
    "y = pd.DataFrame({'Decision':bac['Decision']})\n"
   ]
  },
  {
   "cell_type": "code",
   "execution_count": 12,
   "id": "6389925b",
   "metadata": {},
   "outputs": [],
   "source": [
    "X = X.set_index('ID')\n",
    "y = y.set_index(pd.RangeIndex(start=0, stop=len(y)))"
   ]
  },
  {
   "cell_type": "code",
   "execution_count": 13,
   "id": "7bc42c5e",
   "metadata": {},
   "outputs": [
    {
     "data": {
      "text/html": [
       "<div>\n",
       "<style scoped>\n",
       "    .dataframe tbody tr th:only-of-type {\n",
       "        vertical-align: middle;\n",
       "    }\n",
       "\n",
       "    .dataframe tbody tr th {\n",
       "        vertical-align: top;\n",
       "    }\n",
       "\n",
       "    .dataframe thead th {\n",
       "        text-align: right;\n",
       "    }\n",
       "</style>\n",
       "<table border=\"1\" class=\"dataframe\">\n",
       "  <thead>\n",
       "    <tr style=\"text-align: right;\">\n",
       "      <th></th>\n",
       "      <th>Nom</th>\n",
       "      <th>Serie,x</th>\n",
       "      <th>GroupeAnonymat</th>\n",
       "      <th>LieuNaissance</th>\n",
       "      <th>Centre</th>\n",
       "      <th>Etablissement</th>\n",
       "      <th>Willaya</th>\n",
       "      <th>moughataa</th>\n",
       "      <th>Age</th>\n",
       "    </tr>\n",
       "    <tr>\n",
       "      <th>ID</th>\n",
       "      <th></th>\n",
       "      <th></th>\n",
       "      <th></th>\n",
       "      <th></th>\n",
       "      <th></th>\n",
       "      <th></th>\n",
       "      <th></th>\n",
       "      <th></th>\n",
       "      <th></th>\n",
       "    </tr>\n",
       "  </thead>\n",
       "  <tbody>\n",
       "    <tr>\n",
       "      <th>ID_27634</th>\n",
       "      <td>El Ide Brahim M'Hadi</td>\n",
       "      <td>SN</td>\n",
       "      <td>SN09</td>\n",
       "      <td>Bathet meit</td>\n",
       "      <td>Lycée Jedida</td>\n",
       "      <td>Lycée Jedida</td>\n",
       "      <td>Nouakchott 2 (Ouest)</td>\n",
       "      <td>KSAR</td>\n",
       "      <td>24</td>\n",
       "    </tr>\n",
       "    <tr>\n",
       "      <th>ID_36311</th>\n",
       "      <td>Mariem Yedaly Afane</td>\n",
       "      <td>LO</td>\n",
       "      <td>LO1</td>\n",
       "      <td>Beir Taouress</td>\n",
       "      <td>Lycée Arafat 2 (A)</td>\n",
       "      <td>Lycée Arafat 2</td>\n",
       "      <td>Nouakchott 3 (Sud)</td>\n",
       "      <td>ARAFAT</td>\n",
       "      <td>31</td>\n",
       "    </tr>\n",
       "    <tr>\n",
       "      <th>ID_21059</th>\n",
       "      <td>Aiche Jiyid Jiyid</td>\n",
       "      <td>LM</td>\n",
       "      <td>LM3</td>\n",
       "      <td>Akjoujt</td>\n",
       "      <td>Lycée Akjoujt</td>\n",
       "      <td>Lycée Akjoujt</td>\n",
       "      <td>Inchiri</td>\n",
       "      <td>AKJOUJT</td>\n",
       "      <td>27</td>\n",
       "    </tr>\n",
       "    <tr>\n",
       "      <th>ID_24532</th>\n",
       "      <td>Ahmed Abd El Ghader Meissa</td>\n",
       "      <td>SN</td>\n",
       "      <td>SN06</td>\n",
       "      <td>Chelkhet Tiyab</td>\n",
       "      <td>Lycée Toujounine 1</td>\n",
       "      <td>Lycée Toujounine 1</td>\n",
       "      <td>Nouakchott 1 (Nord)</td>\n",
       "      <td>TOUJOUNINE</td>\n",
       "      <td>23</td>\n",
       "    </tr>\n",
       "    <tr>\n",
       "      <th>ID_17861</th>\n",
       "      <td>Mariam Abdoulaye Ba</td>\n",
       "      <td>SN</td>\n",
       "      <td>SN03</td>\n",
       "      <td>Aere M'Bar</td>\n",
       "      <td>Lycée Nouadhibou 2</td>\n",
       "      <td>Lycée Wava Nouadhibou</td>\n",
       "      <td>Dakhlet NDB</td>\n",
       "      <td>NOUADHIBOU</td>\n",
       "      <td>21</td>\n",
       "    </tr>\n",
       "  </tbody>\n",
       "</table>\n",
       "</div>"
      ],
      "text/plain": [
       "                                 Nom Serie,x GroupeAnonymat   LieuNaissance  \\\n",
       "ID                                                                            \n",
       "ID_27634        El Ide Brahim M'Hadi      SN           SN09     Bathet meit   \n",
       "ID_36311         Mariem Yedaly Afane      LO            LO1   Beir Taouress   \n",
       "ID_21059           Aiche Jiyid Jiyid      LM            LM3         Akjoujt   \n",
       "ID_24532  Ahmed Abd El Ghader Meissa      SN           SN06  Chelkhet Tiyab   \n",
       "ID_17861         Mariam Abdoulaye Ba      SN           SN03      Aere M'Bar   \n",
       "\n",
       "                      Centre          Etablissement               Willaya  \\\n",
       "ID                                                                          \n",
       "ID_27634        Lycée Jedida           Lycée Jedida  Nouakchott 2 (Ouest)   \n",
       "ID_36311  Lycée Arafat 2 (A)         Lycée Arafat 2    Nouakchott 3 (Sud)   \n",
       "ID_21059       Lycée Akjoujt          Lycée Akjoujt               Inchiri   \n",
       "ID_24532  Lycée Toujounine 1     Lycée Toujounine 1   Nouakchott 1 (Nord)   \n",
       "ID_17861  Lycée Nouadhibou 2  Lycée Wava Nouadhibou           Dakhlet NDB   \n",
       "\n",
       "           moughataa  Age  \n",
       "ID                         \n",
       "ID_27634        KSAR   24  \n",
       "ID_36311      ARAFAT   31  \n",
       "ID_21059     AKJOUJT   27  \n",
       "ID_24532  TOUJOUNINE   23  \n",
       "ID_17861  NOUADHIBOU   21  "
      ]
     },
     "execution_count": 13,
     "metadata": {},
     "output_type": "execute_result"
    }
   ],
   "source": [
    "X.head()"
   ]
  },
  {
   "cell_type": "code",
   "execution_count": 14,
   "id": "0ecaf5e0",
   "metadata": {},
   "outputs": [],
   "source": [
    "# Split dataset into training set and test set\n",
    "X_train = X.iloc[0:15930,:] \n",
    "X_test = X.iloc[15930:,:]\n",
    "y_train = y.iloc[0:15930,:]\n",
    "y_test =y.iloc[15930:,:]"
   ]
  },
  {
   "cell_type": "code",
   "execution_count": 15,
   "id": "6d344810",
   "metadata": {},
   "outputs": [],
   "source": [
    "X_train.reset_index(inplace=True)\n",
    "X_test.reset_index(inplace=True)\n",
    "y_train.reset_index(drop=True,inplace=True)\n",
    "y_test.reset_index(drop=True,inplace=True)"
   ]
  },
  {
   "cell_type": "code",
   "execution_count": 16,
   "id": "e30cf786",
   "metadata": {},
   "outputs": [
    {
     "name": "stderr",
     "output_type": "stream",
     "text": [
      "C:\\Users\\USER\\anaconda3\\lib\\site-packages\\sklearn\\preprocessing\\_label.py:115: DataConversionWarning: A column-vector y was passed when a 1d array was expected. Please change the shape of y to (n_samples, ), for example using ravel().\n",
      "  y = column_or_1d(y, warn=True)\n",
      "C:\\Users\\USER\\anaconda3\\lib\\site-packages\\sklearn\\preprocessing\\_label.py:133: DataConversionWarning: A column-vector y was passed when a 1d array was expected. Please change the shape of y to (n_samples, ), for example using ravel().\n",
      "  y = column_or_1d(y, warn=True)\n"
     ]
    }
   ],
   "source": [
    "# define the categorical columns to be one-hot encoded\n",
    "categorical_cols = ['Nom', 'Serie,x', 'GroupeAnonymat', 'LieuNaissance',\n",
    "       'Centre', 'Etablissement','Willaya', 'moughataa', 'ID']\n",
    "# create the preprocessing pipeline for numerical columns\n",
    "#numerical_transformer = Pipeline(steps=[\n",
    " #   ('scaler', StandardScaler())])\n",
    "\n",
    "# create the preprocessing pipeline for categorical columns\n",
    "categorical_transformer = Pipeline(steps=[\n",
    "    ('encoder', OneHotEncoder(handle_unknown='ignore'))])\n",
    "\n",
    "# create a column transformer to apply the numerical and categorical preprocessing pipelines\n",
    "preprocessor = ColumnTransformer(\n",
    "    transformers=[\n",
    "        ('cat', categorical_transformer, categorical_cols)])\n",
    "\n",
    "# fit the preprocessing pipeline on the training data and transform both the training and testing data\n",
    "X_train_preprocessed = preprocessor.fit_transform(X_train)\n",
    "X_test_preprocessed = preprocessor.transform(X_test)\n",
    "le = LabelEncoder()\n",
    "y_train_encoded = le.fit_transform(y_train)\n",
    "y_test_encoded = le.transform(y_test)"
   ]
  },
  {
   "cell_type": "markdown",
   "id": "29e68ee6",
   "metadata": {},
   "source": [
    "## Building XGBOOST Model"
   ]
  },
  {
   "cell_type": "code",
   "execution_count": 17,
   "id": "10b9dd6d",
   "metadata": {},
   "outputs": [
    {
     "name": "stdout",
     "output_type": "stream",
     "text": [
      "[16:27:56] WARNING: C:/buildkite-agent/builds/buildkite-windows-cpu-autoscaling-group-i-0fc7796c793e6356f-1/xgboost/xgboost-ci-windows/src/learner.cc:767: \n",
      "Parameters: { \"gamma\", \"tree_method\" } are not used.\n",
      "\n"
     ]
    },
    {
     "data": {
      "text/plain": [
       "XGBClassifier(base_score=None, booster='gblinear', callbacks=None,\n",
       "              colsample_bylevel=None, colsample_bynode=None,\n",
       "              colsample_bytree=None, early_stopping_rounds=None,\n",
       "              enable_categorical=False, eval_metric=None, feature_types=None,\n",
       "              gamma=0.3, gpu_id=None, grow_policy=None, importance_type=None,\n",
       "              interaction_constraints=None, learning_rate=0.2, max_bin=None,\n",
       "              max_cat_threshold=None, max_cat_to_onehot=None,\n",
       "              max_delta_step=None, max_depth=None, max_leaves=None,\n",
       "              min_child_weight=None, missing=nan, monotone_constraints=None,\n",
       "              n_estimators=100, n_jobs=None, num_parallel_tree=None,\n",
       "              objective='multi:softprob', predictor=None, ...)"
      ]
     },
     "execution_count": 17,
     "metadata": {},
     "output_type": "execute_result"
    }
   ],
   "source": [
    "from xgboost import XGBClassifier\n",
    "\n",
    "# Create an XGBClassifier with CPU acceleration\n",
    "xgb = XGBClassifier(tree_method='exact',n_estimators=100,learning_rate=0.2, gamma=0.3,booster='gblinear')\n",
    "\n",
    "# Train the model and make predictions\n",
    "xgb.fit(X_train_preprocessed, y_train_encoded)\n"
   ]
  },
  {
   "cell_type": "markdown",
   "id": "fc268471",
   "metadata": {},
   "source": [
    "## Evaluate the Model"
   ]
  },
  {
   "cell_type": "code",
   "execution_count": 18,
   "id": "587d87b0",
   "metadata": {},
   "outputs": [
    {
     "name": "stdout",
     "output_type": "stream",
     "text": [
      "the accuracy =  0.8002260170768458\n",
      "f1= 0.72740570606882\n",
      "Training accuracy: 1.0\n"
     ]
    }
   ],
   "source": [
    "\n",
    "y_pred = xgb.predict(X_test_preprocessed)\n",
    "\n",
    "print('the accuracy = ',accuracy_score(y_test_encoded,y_pred))\n",
    "print('f1=',f1_score(y_test_encoded,y_pred, average='weighted'))\n",
    "train_score = len(y_train_encoded == xgb.predict(X_train_preprocessed)) / len(y_train_encoded)\n",
    "print(\"Training accuracy:\", train_score) ## Test the overfitting"
   ]
  },
  {
   "cell_type": "code",
   "execution_count": 19,
   "id": "8ccca711",
   "metadata": {},
   "outputs": [
    {
     "data": {
      "text/plain": [
       "<sklearn.metrics._plot.confusion_matrix.ConfusionMatrixDisplay at 0x2c1cc79e790>"
      ]
     },
     "execution_count": 19,
     "metadata": {},
     "output_type": "execute_result"
    },
    {
     "data": {
      "image/png": "[encoded data removed]",
      "text/plain": [
       "<Figure size 432x288 with 2 Axes>"
      ]
     },
     "metadata": {
      "needs_background": "light"
     },
     "output_type": "display_data"
    }
   ],
   "source": [
    "# Create the confusion matrix\n",
    "cm = confusion_matrix(y_test_encoded, y_pred)\n",
    "ConfusionMatrixDisplay(confusion_matrix=cm).plot()"
   ]
  },
  {
   "cell_type": "markdown",
   "id": "16e677ae",
   "metadata": {},
   "source": [
    "## Model Deployement"
   ]
  },
  {
   "cell_type": "code",
   "execution_count": 20,
   "id": "190aee4a",
   "metadata": {},
   "outputs": [],
   "source": [
    "test_set = pd.read_csv('test_set.csv',sep=';')\n",
    "sub = pd.read_csv('submission_template.csv')\n",
    "test_set = test_set.drop(columns=['Unnamed: 0','prediction'])"
   ]
  },
  {
   "cell_type": "code",
   "execution_count": 21,
   "id": "079de173",
   "metadata": {},
   "outputs": [],
   "source": [
    "test_set['Age']=test_set['DateNaissance'].apply(calculate_age)"
   ]
  },
  {
   "cell_type": "code",
   "execution_count": 22,
   "id": "625f33cc",
   "metadata": {},
   "outputs": [],
   "source": [
    "import pandas as pd\n",
    "\n",
    "\n",
    "# Check if IDs in sub exist in test_set or bac\n",
    "in_test_set = sub['Id'].isin(test_set['ID'])\n",
    "in_bac = sub['Id'].isin(bac['ID'])\n",
    "\n",
    "# Filter rows from test_set and bac that match IDs in sub\n",
    "test_set_matches = test_set[test_set['ID'].isin(sub['Id'])]\n",
    "bac_matches = bac[bac['ID'].isin(sub['Id'])]\n",
    "\n",
    "# Merge the two matches dataframes into one\n",
    "matches = pd.concat([test_set_matches, bac_matches])\n"
   ]
  },
  {
   "cell_type": "code",
   "execution_count": 23,
   "id": "0f86c1cb",
   "metadata": {},
   "outputs": [],
   "source": [
    "matches = matches.drop(columns=['DateNaissance',\n",
    "       'moyeneGeneral', 'Decision', 'Note1', 'Note2', 'Note3', 'Note4',\n",
    "       'Note5', 'Note6', 'Note7', 'Note8'])"
   ]
  },
  {
   "cell_type": "code",
   "execution_count": 24,
   "id": "059d1302",
   "metadata": {},
   "outputs": [],
   "source": [
    "matches = matches.reindex(columns = ['ID', 'Nom', 'Serie,x', 'GroupeAnonymat', 'LieuNaissance', 'Centre',\n",
    "       'Etablissement', 'Willaya', 'moughataa','Age'])"
   ]
  },
  {
   "cell_type": "code",
   "execution_count": 25,
   "id": "94fa2f4c",
   "metadata": {},
   "outputs": [
    {
     "name": "stdout",
     "output_type": "stream",
     "text": [
      "Index(['ID', 'Nom', 'Serie,x', 'GroupeAnonymat', 'LieuNaissance', 'Centre',\n",
      "       'Etablissement', 'Willaya', 'moughataa', 'Age'],\n",
      "      dtype='object')\n",
      "Index(['ID', 'Nom', 'Serie,x', 'GroupeAnonymat', 'LieuNaissance', 'Centre',\n",
      "       'Etablissement', 'Willaya', 'moughataa', 'Age'],\n",
      "      dtype='object')\n"
     ]
    }
   ],
   "source": [
    "print(matches.columns)\n",
    "print(X_train.columns)"
   ]
  },
  {
   "cell_type": "code",
   "execution_count": 26,
   "id": "0cf8cf75",
   "metadata": {},
   "outputs": [
    {
     "name": "stdout",
     "output_type": "stream",
     "text": [
      "(15930, 32783)\n",
      "(15930, 32783)\n"
     ]
    }
   ],
   "source": [
    "preprocessor = ColumnTransformer(\n",
    "    transformers=[\n",
    "        ('cat', categorical_transformer, categorical_cols)])\n",
    "\n",
    "# fit the preprocessing pipeline on the training data\n",
    "preprocessor.fit(X_train)\n",
    "\n",
    "# transform both the training and testing data using the fitted transformer\n",
    "X_train_preprocessed = preprocessor.transform(X_train)\n",
    "test_preprocessed = preprocessor.transform(matches)\n",
    "\n",
    "print(X_train_preprocessed.shape)\n",
    "print(test_preprocessed.shape)"
   ]
  },
  {
   "cell_type": "code",
   "execution_count": 27,
   "id": "4c0dd755",
   "metadata": {},
   "outputs": [],
   "source": [
    "test_pred_proba = xgb.predict_proba(test_preprocessed)\n",
    "probability=[test_pred_proba[i][1] for i in range(len(test_pred_proba))]"
   ]
  },
  {
   "cell_type": "code",
   "execution_count": 28,
   "id": "74e31db3",
   "metadata": {},
   "outputs": [
    {
     "data": {
      "text/html": [
       "<div>\n",
       "<style scoped>\n",
       "    .dataframe tbody tr th:only-of-type {\n",
       "        vertical-align: middle;\n",
       "    }\n",
       "\n",
       "    .dataframe tbody tr th {\n",
       "        vertical-align: top;\n",
       "    }\n",
       "\n",
       "    .dataframe thead th {\n",
       "        text-align: right;\n",
       "    }\n",
       "</style>\n",
       "<table border=\"1\" class=\"dataframe\">\n",
       "  <thead>\n",
       "    <tr style=\"text-align: right;\">\n",
       "      <th></th>\n",
       "      <th>ID</th>\n",
       "      <th>Predicted</th>\n",
       "    </tr>\n",
       "  </thead>\n",
       "  <tbody>\n",
       "    <tr>\n",
       "      <th>133</th>\n",
       "      <td>ID_327</td>\n",
       "      <td>0.200581</td>\n",
       "    </tr>\n",
       "    <tr>\n",
       "      <th>134</th>\n",
       "      <td>ID_330</td>\n",
       "      <td>0.425600</td>\n",
       "    </tr>\n",
       "    <tr>\n",
       "      <th>136</th>\n",
       "      <td>ID_332</td>\n",
       "      <td>0.863666</td>\n",
       "    </tr>\n",
       "    <tr>\n",
       "      <th>137</th>\n",
       "      <td>ID_333</td>\n",
       "      <td>0.200581</td>\n",
       "    </tr>\n",
       "    <tr>\n",
       "      <th>3614</th>\n",
       "      <td>ID_9071</td>\n",
       "      <td>0.782762</td>\n",
       "    </tr>\n",
       "    <tr>\n",
       "      <th>3615</th>\n",
       "      <td>ID_9072</td>\n",
       "      <td>0.634175</td>\n",
       "    </tr>\n",
       "    <tr>\n",
       "      <th>3616</th>\n",
       "      <td>ID_9074</td>\n",
       "      <td>0.208955</td>\n",
       "    </tr>\n",
       "    <tr>\n",
       "      <th>3625</th>\n",
       "      <td>ID_9096</td>\n",
       "      <td>0.604993</td>\n",
       "    </tr>\n",
       "    <tr>\n",
       "      <th>3630</th>\n",
       "      <td>ID_9116</td>\n",
       "      <td>0.872829</td>\n",
       "    </tr>\n",
       "    <tr>\n",
       "      <th>4396</th>\n",
       "      <td>ID_10990</td>\n",
       "      <td>0.204444</td>\n",
       "    </tr>\n",
       "    <tr>\n",
       "      <th>5034</th>\n",
       "      <td>ID_12645</td>\n",
       "      <td>0.653370</td>\n",
       "    </tr>\n",
       "    <tr>\n",
       "      <th>5037</th>\n",
       "      <td>ID_12652</td>\n",
       "      <td>0.637414</td>\n",
       "    </tr>\n",
       "    <tr>\n",
       "      <th>5039</th>\n",
       "      <td>ID_12657</td>\n",
       "      <td>0.637414</td>\n",
       "    </tr>\n",
       "    <tr>\n",
       "      <th>5040</th>\n",
       "      <td>ID_12660</td>\n",
       "      <td>0.653370</td>\n",
       "    </tr>\n",
       "    <tr>\n",
       "      <th>5046</th>\n",
       "      <td>ID_12672</td>\n",
       "      <td>0.653370</td>\n",
       "    </tr>\n",
       "    <tr>\n",
       "      <th>5054</th>\n",
       "      <td>ID_12698</td>\n",
       "      <td>0.720859</td>\n",
       "    </tr>\n",
       "    <tr>\n",
       "      <th>5055</th>\n",
       "      <td>ID_12700</td>\n",
       "      <td>0.637414</td>\n",
       "    </tr>\n",
       "    <tr>\n",
       "      <th>5056</th>\n",
       "      <td>ID_12701</td>\n",
       "      <td>0.571593</td>\n",
       "    </tr>\n",
       "    <tr>\n",
       "      <th>5059</th>\n",
       "      <td>ID_12705</td>\n",
       "      <td>0.653370</td>\n",
       "    </tr>\n",
       "    <tr>\n",
       "      <th>5060</th>\n",
       "      <td>ID_12706</td>\n",
       "      <td>0.653370</td>\n",
       "    </tr>\n",
       "  </tbody>\n",
       "</table>\n",
       "</div>"
      ],
      "text/plain": [
       "            ID  Predicted\n",
       "133     ID_327   0.200581\n",
       "134     ID_330   0.425600\n",
       "136     ID_332   0.863666\n",
       "137     ID_333   0.200581\n",
       "3614   ID_9071   0.782762\n",
       "3615   ID_9072   0.634175\n",
       "3616   ID_9074   0.208955\n",
       "3625   ID_9096   0.604993\n",
       "3630   ID_9116   0.872829\n",
       "4396  ID_10990   0.204444\n",
       "5034  ID_12645   0.653370\n",
       "5037  ID_12652   0.637414\n",
       "5039  ID_12657   0.637414\n",
       "5040  ID_12660   0.653370\n",
       "5046  ID_12672   0.653370\n",
       "5054  ID_12698   0.720859\n",
       "5055  ID_12700   0.637414\n",
       "5056  ID_12701   0.571593\n",
       "5059  ID_12705   0.653370\n",
       "5060  ID_12706   0.653370"
      ]
     },
     "execution_count": 28,
     "metadata": {},
     "output_type": "execute_result"
    }
   ],
   "source": [
    "resultat = pd.DataFrame(matches['ID'])\n",
    "#resultat['Valeur predit'] = y_predit\n",
    "resultat['Predicted'] = probability\n",
    "resultat[resultat['Predicted']>0.20].head(20)"
   ]
  },
  {
   "cell_type": "code",
   "execution_count": null,
   "id": "ff2d7a54",
   "metadata": {},
   "outputs": [],
   "source": [
    "# export the pridiction to csv file\n",
    "resultat.to_csv('submission_xgb.csv', index=False)"
   ]
  }
 ],
 "metadata": {
  "kernelspec": {
   "display_name": "Python 3 (ipykernel)",
   "language": "python",
   "name": "python3"
  },
  "language_info": {
   "codemirror_mode": {
    "name": "ipython",
    "version": 3
   },
   "file_extension": ".py",
   "mimetype": "text/x-python",
   "name": "python",
   "nbconvert_exporter": "python",
   "pygments_lexer": "ipython3",
   "version": "3.9.12"
  }
 },
 "nbformat": 4,
 "nbformat_minor": 5
}
